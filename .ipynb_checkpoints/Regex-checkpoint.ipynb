{
 "cells": [
  {
   "cell_type": "markdown",
   "metadata": {},
   "source": [
    "# re.findall(): Finding all matches in a string"
   ]
  },
  {
   "cell_type": "code",
   "execution_count": 2,
   "metadata": {},
   "outputs": [],
   "source": [
    "import re"
   ]
  },
  {
   "cell_type": "code",
   "execution_count": 3,
   "metadata": {},
   "outputs": [],
   "source": [
    "text = \"Sixty-six undergraduate students from an urban college in New York City participated in this study. Students participated in this research study as part of a requirement for a class. Nineteen participants were excluded from the study for meeting one or more exclusion criteria including not completing the sentence unscrambling task, not providing ratings for each of the traits, or failing either one of the two attention checks, leaving the total number of eligible participants at forty-seven. Participants included 36 women aged 18 to 52 years old (M = 20.52, SD = 6.97), 10 men aged 18 to 28 years old (M = 23.5, SD = 12.36), and one individual who did not disclose their sex.\"\n",
    "\n"
   ]
  },
  {
   "cell_type": "markdown",
   "metadata": {},
   "source": [
    "## Extract all occurences of numbers"
   ]
  },
  {
   "cell_type": "code",
   "execution_count": 4,
   "metadata": {},
   "outputs": [
    {
     "data": {
      "text/plain": [
       "['36',\n",
       " '18',\n",
       " '52',\n",
       " '20',\n",
       " '52',\n",
       " '6',\n",
       " '97',\n",
       " '10',\n",
       " '18',\n",
       " '28',\n",
       " '23',\n",
       " '5',\n",
       " '12',\n",
       " '36']"
      ]
     },
     "execution_count": 4,
     "metadata": {},
     "output_type": "execute_result"
    }
   ],
   "source": [
    "numbers=\"\\d+\"\n",
    "re.findall(numbers,text)"
   ]
  },
  {
   "cell_type": "code",
   "execution_count": 5,
   "metadata": {
    "scrolled": true
   },
   "outputs": [
    {
     "data": {
      "text/plain": [
       "['36', '18', '52', '20.52', '6.97', '10', '18', '28', '23.5', '12.36']"
      ]
     },
     "execution_count": 5,
     "metadata": {},
     "output_type": "execute_result"
    }
   ],
   "source": [
    "all_numbers=\"\\d*\\.?\\d+\"\n",
    "re.findall(all_numbers,text)"
   ]
  },
  {
   "cell_type": "markdown",
   "metadata": {},
   "source": [
    "## Extract all occurences of specific words using \"|\" operator"
   ]
  },
  {
   "cell_type": "code",
   "execution_count": 64,
   "metadata": {},
   "outputs": [],
   "source": [
    "aquarium='Because of problems with her eyesight, rey the African penguin had issues with swimming. That’s unusual for a penguin, and presented a big challenge for our aviculture team to help Rey overcome her hesitancy. Slowly and steadily, we trained her to be comfortable feeding in the water like the rest of the penguin colony. The aviculturists also trained Rey to accept daily eye drops from them as part of her special health care. Rey already had good relationships with some staff, and was comfortable with them handling her. Senior Aviculturist Kim Fukuda says the team built on those bonds to get Rey used to receiving the eye drops. \"She knows the routine,\" Kim says. \"I usually give her the eye drops in one area of the exhibit after all the penguins get their vitamins. When that happens, she runs over there and waits for me.\" Rosa, our oldest sea otter, has very limited eyesight, among other health issues. The sea otter team had already trained Rosa so they could examine her eyes, and built on that trust to include administering the eye drops she needs.'\n"
   ]
  },
  {
   "cell_type": "code",
   "execution_count": 45,
   "metadata": {},
   "outputs": [
    {
     "data": {
      "text/plain": [
       "['Rey', 'Rey', 'Rey', 'Rey']"
      ]
     },
     "execution_count": 45,
     "metadata": {},
     "output_type": "execute_result"
    }
   ],
   "source": [
    "rey_occurences = \"Rey\"\n",
    "re.findall(rey_occurences, aquarium)"
   ]
  },
  {
   "cell_type": "code",
   "execution_count": 46,
   "metadata": {},
   "outputs": [
    {
     "data": {
      "text/plain": [
       "['rey', 'Rey', 'Rey', 'Rey', 'Rey']"
      ]
     },
     "execution_count": 46,
     "metadata": {},
     "output_type": "execute_result"
    }
   ],
   "source": [
    "rey_occurences = \"Rey\"\n",
    "re.findall(rey_occurences,aquarium,flags=re.IGNORECASE)"
   ]
  },
  {
   "cell_type": "code",
   "execution_count": 47,
   "metadata": {
    "scrolled": true
   },
   "outputs": [
    {
     "data": {
      "text/plain": [
       "['rey', 'Rey', 'Rey', 'Rey', 'Rey', 'Rosa', 'Rosa']"
      ]
     },
     "execution_count": 47,
     "metadata": {},
     "output_type": "execute_result"
    }
   ],
   "source": [
    "sea_animals=\"Rey|Rosa\"\n",
    "re.findall(sea_animals,aquarium,flags=re.IGNORECASE)"
   ]
  },
  {
   "cell_type": "markdown",
   "metadata": {},
   "source": [
    "## Extracting words that only contain alphabets"
   ]
  },
  {
   "cell_type": "code",
   "execution_count": 48,
   "metadata": {},
   "outputs": [],
   "source": [
    "gifts = \"\\Basketball    2    25.63\\Tshirt     4   53.92\\Sneakers    1    30.58\\Mask    10   80.54\\GiftCard    2    50.00\""
   ]
  },
  {
   "cell_type": "code",
   "execution_count": 49,
   "metadata": {},
   "outputs": [
    {
     "data": {
      "text/plain": [
       "['Basketball', 'Tshirt', 'Sneakers', 'Mask', 'GiftCard']"
      ]
     },
     "execution_count": 49,
     "metadata": {},
     "output_type": "execute_result"
    }
   ],
   "source": [
    "words = '[a-z]+'\n",
    "re.findall(words,gifts,flags=re.IGNORECASE)"
   ]
  },
  {
   "cell_type": "code",
   "execution_count": 50,
   "metadata": {},
   "outputs": [
    {
     "data": {
      "text/plain": [
       "['Basketball', 'Tshirt', 'Sneakers', 'Mask', 'GiftCard']"
      ]
     },
     "execution_count": 50,
     "metadata": {},
     "output_type": "execute_result"
    }
   ],
   "source": [
    "words=\"[a-zA-Z]+\"\n",
    "re.findall(words,gifts,flags=re.IGNORECASE)"
   ]
  },
  {
   "cell_type": "markdown",
   "metadata": {},
   "source": [
    "## Extracting words that follow a specific pattern"
   ]
  },
  {
   "cell_type": "code",
   "execution_count": 68,
   "metadata": {},
   "outputs": [
    {
     "data": {
      "text/plain": [
       "['She knows the routine,',\n",
       " 'I usually give her the eye drops in one area of the exhibit after all the penguins get their vitamins. When that happens, she runs over there and waits for me.']"
      ]
     },
     "execution_count": 68,
     "metadata": {},
     "output_type": "execute_result"
    }
   ],
   "source": [
    "quotes='\"\"([a-zA-Z]+)'\n",
    "re.findall(r'\"(.*?)\"',aquarium)"
   ]
  },
  {
   "cell_type": "markdown",
   "metadata": {},
   "source": [
    "# re.match(): Returning first occurence in text"
   ]
  },
  {
   "cell_type": "code",
   "execution_count": 16,
   "metadata": {},
   "outputs": [
    {
     "name": "stdout",
     "output_type": "stream",
     "text": [
      "Search unsuccessful.\n"
     ]
    }
   ],
   "source": [
    "pattern='Rosa'\n",
    "aquarium_short=\"Because of problems with her eyesight, rey the African penguin had issues with swimming.\"\n",
    "result=re.match(pattern, aquarium_short)\n",
    "\n",
    "if result:\n",
    "    print(\"Search successful.\")\n",
    "else:\n",
    "    print(\"Search unsuccessful.\")"
   ]
  },
  {
   "cell_type": "code",
   "execution_count": 30,
   "metadata": {},
   "outputs": [
    {
     "name": "stdout",
     "output_type": "stream",
     "text": [
      "Search successful.\n"
     ]
    }
   ],
   "source": [
    "pattern='Because'\n",
    "aquarium_short=\"Because of problems with her eyesight, rey the African penguin had issues with swimming.That’s unusual for a penguin, and presented a big challenge for our aviculture team to help Rey overcome her hesitancy.\"\n",
    "result=re.match(pattern, aquarium_short)\n",
    "\n",
    "if result:\n",
    "    print(\"Search successful.\")\n",
    "else:\n",
    "    print(\"Search unsuccessful.\")"
   ]
  },
  {
   "cell_type": "code",
   "execution_count": 31,
   "metadata": {},
   "outputs": [
    {
     "name": "stdout",
     "output_type": "stream",
     "text": [
      "('dog', 'dot')\n",
      "('data', 'day')\n"
     ]
    }
   ],
   "source": [
    "list = [\"dog dot\", \"data day\", \"no match\"]\n",
    "\n",
    "# Loop.\n",
    "for element in list:\n",
    "    # Match if 2 words starting with letter \"d.\"\n",
    "    m = re.match(\"(d\\w+)\\W(d\\w+)\", element)\n",
    "\n",
    "    # See if success.\n",
    "    if m:\n",
    "        print(m.groups())"
   ]
  },
  {
   "cell_type": "markdown",
   "metadata": {},
   "source": [
    "There is a difference between the use of both functions. Both return the first match of a substring found in the string, but re.match() searches only from the beginning of the string and return match object if found. But if a match of substring is found somewhere in the middle of the string, it returns none. "
   ]
  },
  {
   "cell_type": "markdown",
   "metadata": {},
   "source": [
    "# re.search(): Finding pattern in text"
   ]
  },
  {
   "cell_type": "markdown",
   "metadata": {},
   "source": [
    "While re.search() searches for the whole string even if the string contains multi-lines and tries to find a match of the substring in all the lines of string. The Python re.search() function returns a match object when the pattern is found and “null” if the pattern is not found"
   ]
  },
  {
   "cell_type": "code",
   "execution_count": 35,
   "metadata": {},
   "outputs": [
    {
     "name": "stdout",
     "output_type": "stream",
     "text": [
      "Looking for \"penguin\" in \"Because of problems with her eyesight, rey the African penguin had issues with swimming.\" =  Match was found\n",
      "Looking for \"Rosa\" in \"Because of problems with her eyesight, rey the African penguin had issues with swimming.\" =  No match was found\n"
     ]
    }
   ],
   "source": [
    "patterns=['penguin','Rosa']\n",
    "aquarium_short=\"Because of problems with her eyesight, rey the African penguin had issues with swimming.\"\n",
    "for pattern in patterns:\n",
    "    print('Looking for \"%s\" in \"%s\" = '% (pattern, aquarium_short), end=\" \")\n",
    "    \n",
    "    if re.search(pattern, aquarium_short):\n",
    "        print(\"Match was found\")\n",
    "    else:\n",
    "        print(\"No match was found\")"
   ]
  },
  {
   "cell_type": "code",
   "execution_count": null,
   "metadata": {},
   "outputs": [],
   "source": []
  }
 ],
 "metadata": {
  "kernelspec": {
   "display_name": "Python 3",
   "language": "python",
   "name": "python3"
  },
  "language_info": {
   "codemirror_mode": {
    "name": "ipython",
    "version": 3
   },
   "file_extension": ".py",
   "mimetype": "text/x-python",
   "name": "python",
   "nbconvert_exporter": "python",
   "pygments_lexer": "ipython3",
   "version": "3.6.9"
  }
 },
 "nbformat": 4,
 "nbformat_minor": 2
}
